{
 "cells": [
  {
   "cell_type": "markdown",
   "id": "156737b5-b9f6-4642-985a-8ce8e64a9111",
   "metadata": {},
   "source": [
    "### Importar os dados\n"
   ]
  },
  {
   "cell_type": "code",
   "execution_count": null,
   "id": "c48f69d7-3bda-45e8-8a5c-93ffed2febde",
   "metadata": {},
   "outputs": [],
   "source": [
    "import pandas as pd\n",
    "import numpy as np\n",
    "\n",
    "data_url = 'dataset_dome.csv'\n",
    "dome_data = pd.read_csv(data_url)\n",
    "dome_data"
   ]
  }
 ],
 "metadata": {
  "kernelspec": {
   "display_name": "Python 3 (ipykernel)",
   "language": "python",
   "name": "python3"
  },
  "language_info": {
   "codemirror_mode": {
    "name": "ipython",
    "version": 3
   },
   "file_extension": ".py",
   "mimetype": "text/x-python",
   "name": "python",
   "nbconvert_exporter": "python",
   "pygments_lexer": "ipython3",
   "version": "3.11.7"
  }
 },
 "nbformat": 4,
 "nbformat_minor": 5
}
